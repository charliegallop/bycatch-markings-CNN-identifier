{
 "cells": [
  {
   "cell_type": "code",
   "execution_count": 1,
   "id": "9697abb4",
   "metadata": {},
   "outputs": [],
   "source": [
    "import pandas as pd\n",
    "import numpy as np\n",
    "import matplotlib.pyplot as plt\n",
    "import seaborn as sns\n",
    "import os"
   ]
  },
  {
   "cell_type": "code",
   "execution_count": 2,
   "id": "44606cec",
   "metadata": {},
   "outputs": [],
   "source": [
    "ROOT = \"/home/charlie/Documents/Uni/Exeter - Data Science/Dissertation/\"\n",
    "RAW_DATA_DIR = os.path.join(ROOT, \"rawData\")"
   ]
  },
  {
   "cell_type": "code",
   "execution_count": 3,
   "id": "edf63fa7",
   "metadata": {},
   "outputs": [],
   "source": [
    "all_strandings = os.path.join(RAW_DATA_DIR, \"all_strandings.csv\")\n",
    "df_raw = pd.read_csv(all_strandings)"
   ]
  },
  {
   "cell_type": "code",
   "execution_count": 4,
   "id": "15b7379b",
   "metadata": {},
   "outputs": [
    {
     "data": {
      "text/html": [
       "<div>\n",
       "<style scoped>\n",
       "    .dataframe tbody tr th:only-of-type {\n",
       "        vertical-align: middle;\n",
       "    }\n",
       "\n",
       "    .dataframe tbody tr th {\n",
       "        vertical-align: top;\n",
       "    }\n",
       "\n",
       "    .dataframe thead th {\n",
       "        text-align: right;\n",
       "    }\n",
       "</style>\n",
       "<table border=\"1\" class=\"dataframe\">\n",
       "  <thead>\n",
       "    <tr style=\"text-align: right;\">\n",
       "      <th></th>\n",
       "      <th>Cornwall ID</th>\n",
       "      <th>Species</th>\n",
       "      <th>LatinName</th>\n",
       "      <th>Number</th>\n",
       "      <th>Date</th>\n",
       "      <th>Year</th>\n",
       "      <th>ID Certainty</th>\n",
       "      <th>Sex</th>\n",
       "      <th>Length</th>\n",
       "      <th>LengthText</th>\n",
       "      <th>Location</th>\n",
       "      <th>GridRef</th>\n",
       "      <th>PMNo</th>\n",
       "      <th>Cause of Death (determined at PME)</th>\n",
       "      <th>COD Category (PME)</th>\n",
       "      <th>ConditionNotes</th>\n",
       "      <th>ByCatchEvidence</th>\n",
       "      <th>AnyNotes</th>\n",
       "      <th>BEEP Conclusion</th>\n",
       "      <th>Photos received</th>\n",
       "    </tr>\n",
       "  </thead>\n",
       "  <tbody>\n",
       "    <tr>\n",
       "      <th>0</th>\n",
       "      <td>C/1993/023</td>\n",
       "      <td>Common Dolphin</td>\n",
       "      <td>Delphinus delphis</td>\n",
       "      <td>1.0</td>\n",
       "      <td>20/04/1993</td>\n",
       "      <td>1993</td>\n",
       "      <td>Definite</td>\n",
       "      <td>NaN</td>\n",
       "      <td>-9.00</td>\n",
       "      <td>NaN</td>\n",
       "      <td>West of Gillan, Helford River complex</td>\n",
       "      <td>SW72</td>\n",
       "      <td>NaN</td>\n",
       "      <td>NaN</td>\n",
       "      <td>NaN</td>\n",
       "      <td>Decayed</td>\n",
       "      <td>NaN</td>\n",
       "      <td>Head removed by Dr Reid , with intention of ta...</td>\n",
       "      <td>NaN</td>\n",
       "      <td>False</td>\n",
       "    </tr>\n",
       "    <tr>\n",
       "      <th>1</th>\n",
       "      <td>C/1993/008</td>\n",
       "      <td>Common Dolphin</td>\n",
       "      <td>Delphinus delphis</td>\n",
       "      <td>1.0</td>\n",
       "      <td>17/02/1993</td>\n",
       "      <td>1993</td>\n",
       "      <td>Definite</td>\n",
       "      <td>Female</td>\n",
       "      <td>2.26</td>\n",
       "      <td>NaN</td>\n",
       "      <td>Tresco, Isles of Scilly</td>\n",
       "      <td>SV899138</td>\n",
       "      <td>NaN</td>\n",
       "      <td>NaN</td>\n",
       "      <td>NaN</td>\n",
       "      <td>NaN</td>\n",
       "      <td>Lower left jaw broken</td>\n",
       "      <td>Photographed  (Erica: W99474)</td>\n",
       "      <td>NaN</td>\n",
       "      <td>False</td>\n",
       "    </tr>\n",
       "    <tr>\n",
       "      <th>2</th>\n",
       "      <td>C/1993/021</td>\n",
       "      <td>Risso's Dolphin</td>\n",
       "      <td>Grampus griseus</td>\n",
       "      <td>1.0</td>\n",
       "      <td>18/04/1993</td>\n",
       "      <td>1993</td>\n",
       "      <td>Probable</td>\n",
       "      <td>NaN</td>\n",
       "      <td>2.96</td>\n",
       "      <td>NaN</td>\n",
       "      <td>Lantic Bay</td>\n",
       "      <td>SX1450</td>\n",
       "      <td>NaN</td>\n",
       "      <td>NaN</td>\n",
       "      <td>NaN</td>\n",
       "      <td>NaN</td>\n",
       "      <td>NaN</td>\n",
       "      <td>Rounded head. High dorsal fin and size suggest...</td>\n",
       "      <td>NaN</td>\n",
       "      <td>False</td>\n",
       "    </tr>\n",
       "    <tr>\n",
       "      <th>3</th>\n",
       "      <td>C/1993/013</td>\n",
       "      <td>Common Dolphin</td>\n",
       "      <td>Delphinus delphis</td>\n",
       "      <td>1.0</td>\n",
       "      <td>15/03/1993</td>\n",
       "      <td>1993</td>\n",
       "      <td>Definite</td>\n",
       "      <td>Male</td>\n",
       "      <td>2.12</td>\n",
       "      <td>NaN</td>\n",
       "      <td>Polstreath Cove, Mevagissey.</td>\n",
       "      <td>SX017453</td>\n",
       "      <td>NaN</td>\n",
       "      <td>physical trauma,  bycatch</td>\n",
       "      <td>Bycatch</td>\n",
       "      <td>Moderately decomposed</td>\n",
       "      <td>Broken beak.\\nEntanglement case (2014)</td>\n",
       "      <td>.  (Erica: W99479)</td>\n",
       "      <td>NaN</td>\n",
       "      <td>False</td>\n",
       "    </tr>\n",
       "    <tr>\n",
       "      <th>4</th>\n",
       "      <td>C/1993/045</td>\n",
       "      <td>Harbour Porpoise</td>\n",
       "      <td>Phocoena phocoena</td>\n",
       "      <td>1.0</td>\n",
       "      <td>28/12/1993</td>\n",
       "      <td>1993</td>\n",
       "      <td>Definite</td>\n",
       "      <td>Male</td>\n",
       "      <td>1.29</td>\n",
       "      <td>NaN</td>\n",
       "      <td>Carne beach, near Veryan</td>\n",
       "      <td>SW905383</td>\n",
       "      <td>NaN</td>\n",
       "      <td>physical trauma, by-catch?</td>\n",
       "      <td>Not Established</td>\n",
       "      <td>NaN</td>\n",
       "      <td>NaN</td>\n",
       "      <td>(Erica: Y95975)</td>\n",
       "      <td>NaN</td>\n",
       "      <td>False</td>\n",
       "    </tr>\n",
       "  </tbody>\n",
       "</table>\n",
       "</div>"
      ],
      "text/plain": [
       "  Cornwall ID           Species          LatinName  Number        Date  Year  \\\n",
       "0  C/1993/023    Common Dolphin  Delphinus delphis     1.0  20/04/1993  1993   \n",
       "1  C/1993/008    Common Dolphin  Delphinus delphis     1.0  17/02/1993  1993   \n",
       "2  C/1993/021   Risso's Dolphin    Grampus griseus     1.0  18/04/1993  1993   \n",
       "3  C/1993/013    Common Dolphin  Delphinus delphis     1.0  15/03/1993  1993   \n",
       "4  C/1993/045  Harbour Porpoise  Phocoena phocoena     1.0  28/12/1993  1993   \n",
       "\n",
       "  ID Certainty     Sex  Length LengthText  \\\n",
       "0     Definite     NaN   -9.00        NaN   \n",
       "1     Definite  Female    2.26        NaN   \n",
       "2     Probable     NaN    2.96        NaN   \n",
       "3     Definite    Male    2.12        NaN   \n",
       "4     Definite    Male    1.29        NaN   \n",
       "\n",
       "                                Location   GridRef PMNo  \\\n",
       "0  West of Gillan, Helford River complex      SW72  NaN   \n",
       "1                Tresco, Isles of Scilly  SV899138  NaN   \n",
       "2                             Lantic Bay    SX1450  NaN   \n",
       "3           Polstreath Cove, Mevagissey.  SX017453  NaN   \n",
       "4               Carne beach, near Veryan  SW905383  NaN   \n",
       "\n",
       "  Cause of Death (determined at PME) COD Category (PME)  \\\n",
       "0                                NaN                NaN   \n",
       "1                                NaN                NaN   \n",
       "2                                NaN                NaN   \n",
       "3          physical trauma,  bycatch            Bycatch   \n",
       "4         physical trauma, by-catch?    Not Established   \n",
       "\n",
       "          ConditionNotes                         ByCatchEvidence  \\\n",
       "0                Decayed                                     NaN   \n",
       "1                    NaN                   Lower left jaw broken   \n",
       "2                    NaN                                     NaN   \n",
       "3  Moderately decomposed  Broken beak.\\nEntanglement case (2014)   \n",
       "4                    NaN                                     NaN   \n",
       "\n",
       "                                            AnyNotes BEEP Conclusion  \\\n",
       "0  Head removed by Dr Reid , with intention of ta...             NaN   \n",
       "1                      Photographed  (Erica: W99474)             NaN   \n",
       "2  Rounded head. High dorsal fin and size suggest...             NaN   \n",
       "3                                 .  (Erica: W99479)             NaN   \n",
       "4                                    (Erica: Y95975)             NaN   \n",
       "\n",
       "   Photos received  \n",
       "0            False  \n",
       "1            False  \n",
       "2            False  \n",
       "3            False  \n",
       "4            False  "
      ]
     },
     "execution_count": 4,
     "metadata": {},
     "output_type": "execute_result"
    }
   ],
   "source": [
    "df_raw.head()"
   ]
  },
  {
   "cell_type": "code",
   "execution_count": 5,
   "id": "f17a5f7b",
   "metadata": {},
   "outputs": [
    {
     "data": {
      "text/plain": [
       "Cornwall ID                              0\n",
       "Species                                  0\n",
       "LatinName                                6\n",
       "Number                                   1\n",
       "Date                                     0\n",
       "Year                                     0\n",
       "ID Certainty                           403\n",
       "Sex                                    385\n",
       "Length                                 442\n",
       "LengthText                            3178\n",
       "Location                                 0\n",
       "GridRef                                  2\n",
       "PMNo                                  3090\n",
       "Cause of Death (determined at PME)    2981\n",
       "COD Category (PME)                    2978\n",
       "ConditionNotes                         524\n",
       "ByCatchEvidence                       2045\n",
       "AnyNotes                               596\n",
       "BEEP Conclusion                       1486\n",
       "Photos received                          0\n",
       "dtype: int64"
      ]
     },
     "execution_count": 5,
     "metadata": {},
     "output_type": "execute_result"
    }
   ],
   "source": [
    "df_raw.isnull().sum()"
   ]
  },
  {
   "cell_type": "code",
   "execution_count": 6,
   "id": "07ba0031",
   "metadata": {},
   "outputs": [
    {
     "data": {
      "text/plain": [
       "Index(['Cornwall ID', 'Species', 'LatinName', 'Number', 'Date', 'Year',\n",
       "       'ID Certainty', 'Sex', 'Length', 'LengthText', 'Location', 'GridRef',\n",
       "       'PMNo', 'Cause of Death (determined at PME)', 'COD Category (PME)',\n",
       "       'ConditionNotes', 'ByCatchEvidence', 'AnyNotes', 'BEEP Conclusion',\n",
       "       'Photos received'],\n",
       "      dtype='object')"
      ]
     },
     "execution_count": 6,
     "metadata": {},
     "output_type": "execute_result"
    }
   ],
   "source": [
    "df_raw.columns"
   ]
  },
  {
   "cell_type": "code",
   "execution_count": 7,
   "id": "848ce7ab",
   "metadata": {},
   "outputs": [
    {
     "data": {
      "text/plain": [
       "{'Cornwall ID': '0',\n",
       " 'Species': '1',\n",
       " 'LatinName': '2',\n",
       " 'Number': '3',\n",
       " 'Date': '4',\n",
       " 'Year': '5',\n",
       " 'ID Certainty': '6',\n",
       " 'Sex': '7',\n",
       " 'Length': '8',\n",
       " 'LengthText': '9',\n",
       " 'Location': '10',\n",
       " 'GridRef': '11',\n",
       " 'PMNo': '12',\n",
       " 'Cause of Death (determined at PME)': '13',\n",
       " 'COD Category (PME)': '14',\n",
       " 'ConditionNotes': '15',\n",
       " 'ByCatchEvidence': '16',\n",
       " 'AnyNotes': '17',\n",
       " 'BEEP Conclusion': '18',\n",
       " 'Photos received': '19'}"
      ]
     },
     "execution_count": 7,
     "metadata": {},
     "output_type": "execute_result"
    }
   ],
   "source": [
    "{j: f\"{i}\" for i, j in enumerate(df_raw.columns)}"
   ]
  },
  {
   "cell_type": "code",
   "execution_count": 204,
   "id": "ef7adeb3",
   "metadata": {},
   "outputs": [],
   "source": [
    "df = df_raw.rename(columns = {\n",
    "    'Cornwall ID': 'id',\n",
    "    'Species': 'species',\n",
    "    'LatinName': 'latin_name',\n",
    "    'Number': 'number',\n",
    "    'Date': 'date',\n",
    "    'Year': 'year',\n",
    "    'ID Certainty': 'id_certainty',\n",
    "    'Sex': 'sex',\n",
    "    'Length': 'length',\n",
    "    'LengthText': 'length_text',\n",
    "    'Location': 'location',\n",
    "    'GridRef': 'grid_ref',\n",
    "    'PMNo': 'pmno',\n",
    "    'Cause of Death (determined at PME)': 'cause_of_death',\n",
    "    'COD Category (PME)': 'cod_cat',\n",
    "    'ConditionNotes': 'condition',\n",
    "    'ByCatchEvidence': 'bycatch_ev',\n",
    "    'AnyNotes': 'notes',\n",
    "    'BEEP Conclusion': 'beep_conc',\n",
    "    'Photos received': 'photos_rec'\n",
    "                             })"
   ]
  },
  {
   "cell_type": "code",
   "execution_count": 205,
   "id": "b1636bdb",
   "metadata": {},
   "outputs": [],
   "source": [
    "df2 = df.drop(columns = [\n",
    "    'id',\n",
    "    'date',\n",
    "    'length', \n",
    "    'length_text', \n",
    "    'grid_ref', \n",
    "    'pmno', \n",
    "    'photos_rec', \n",
    "    'number', \n",
    "    'latin_name', \n",
    "    \"notes\", \n",
    "    \"condition\"\n",
    "])"
   ]
  },
  {
   "cell_type": "code",
   "execution_count": 206,
   "id": "f7bbeb33",
   "metadata": {},
   "outputs": [
    {
     "name": "stdout",
     "output_type": "stream",
     "text": [
      "<class 'pandas.core.frame.DataFrame'>\n",
      "RangeIndex: 3704 entries, 0 to 3703\n",
      "Data columns (total 9 columns):\n",
      " #   Column          Non-Null Count  Dtype \n",
      "---  ------          --------------  ----- \n",
      " 0   species         3704 non-null   object\n",
      " 1   year            3704 non-null   int64 \n",
      " 2   id_certainty    3301 non-null   object\n",
      " 3   sex             3319 non-null   object\n",
      " 4   location        3704 non-null   object\n",
      " 5   cause_of_death  723 non-null    object\n",
      " 6   cod_cat         726 non-null    object\n",
      " 7   bycatch_ev      1659 non-null   object\n",
      " 8   beep_conc       2218 non-null   object\n",
      "dtypes: int64(1), object(8)\n",
      "memory usage: 260.6+ KB\n"
     ]
    }
   ],
   "source": [
    "df2.info()"
   ]
  },
  {
   "cell_type": "code",
   "execution_count": 207,
   "id": "f88cda31",
   "metadata": {},
   "outputs": [
    {
     "data": {
      "text/plain": [
       "0           NaN\n",
       "1        Female\n",
       "2           NaN\n",
       "3          Male\n",
       "4          Male\n",
       "         ...   \n",
       "3699       Male\n",
       "3700    unknown\n",
       "3701       Male\n",
       "3702     Female\n",
       "3703     Female\n",
       "Name: sex, Length: 3704, dtype: object"
      ]
     },
     "execution_count": 207,
     "metadata": {},
     "output_type": "execute_result"
    }
   ],
   "source": [
    "df2.sex"
   ]
  },
  {
   "cell_type": "code",
   "execution_count": 208,
   "id": "f5c4b354",
   "metadata": {},
   "outputs": [],
   "source": [
    "# define the colour palette\n",
    "colours = [\n",
    "    \"#444c54\", # charcoal grey\n",
    "    \"#C79B88\", # Antique Brass\n",
    "    \"#E76F51\", # burnt sienna\n",
    "    \"#0C9D7D\", # paolo veronese green\n",
    "    \"#E9C46A\", # maize crayola\n",
    "    \"#F4A261\", # sandy brown\n",
    "    \"#998b70\", # grullo\n",
    "    \"#fcb923\", # selective yellow\n",
    "    \"#e24670\",  # paradise pink\n",
    "    \"#264653\" # charcoal\n",
    "    \n",
    "]"
   ]
  },
  {
   "cell_type": "code",
   "execution_count": 209,
   "id": "11a20634",
   "metadata": {},
   "outputs": [
    {
     "data": {
      "text/plain": [
       "array(['Unknown', 'Female', 'Male'], dtype=object)"
      ]
     },
     "execution_count": 209,
     "metadata": {},
     "output_type": "execute_result"
    }
   ],
   "source": [
    "df2['sex'] = df2['sex'].map({'Male':'Male',\n",
    "                             'Female': 'Female',\n",
    "                             'unknown':'Unknown',\n",
    "                             '?':'Unknown',\n",
    "                             np.nan:'Unknown'},\n",
    "                             na_action=None)\n",
    "df2['sex'].fillna(\"Unknown\", inplace = True)\n",
    "df2['sex'].unique()\n",
    "\n",
    "# df['sex'] = df['sex'].apply(lambda x: if x in [])"
   ]
  },
  {
   "cell_type": "code",
   "execution_count": 441,
   "id": "f7e54065",
   "metadata": {},
   "outputs": [
    {
     "data": {
      "text/plain": [
       "year\n",
       "1993     56\n",
       "1994     48\n",
       "1995     21\n",
       "1996     54\n",
       "1997     57\n",
       "1998     67\n",
       "1999     66\n",
       "2000     73\n",
       "2001    120\n",
       "2002    185\n",
       "2003    255\n",
       "2004    223\n",
       "2005    103\n",
       "2006    175\n",
       "2007     80\n",
       "2008    110\n",
       "2009     74\n",
       "2010     58\n",
       "2011    100\n",
       "2012    133\n",
       "2013    108\n",
       "2014     90\n",
       "2015     97\n",
       "2016    202\n",
       "2017    248\n",
       "2018    174\n",
       "2019    245\n",
       "2020    201\n",
       "2021    206\n",
       "2022     75\n",
       "Name: year, dtype: int64"
      ]
     },
     "execution_count": 441,
     "metadata": {},
     "output_type": "execute_result"
    }
   ],
   "source": [
    "df.groupby('year')['year'].count()"
   ]
  },
  {
   "cell_type": "code",
   "execution_count": 210,
   "id": "8c5bcaeb",
   "metadata": {},
   "outputs": [
    {
     "data": {
      "image/png": "[encoded data removed]",
      "text/plain": [
       "<Figure size 1440x720 with 1 Axes>"
      ]
     },
     "metadata": {},
     "output_type": "display_data"
    }
   ],
   "source": [
    "sns.set_theme(style = \"white\", font_scale = 1.5)\n",
    "fig, ax = plt.subplots(figsize = (20,10))\n",
    "\n",
    "\n",
    "plt.xticks(rotation = 45)\n",
    "sns.countplot(x = \"year\", data = df2, color = \"#444c54\", ax = ax)\n",
    "plt.show()"
   ]
  },
  {
   "cell_type": "code",
   "execution_count": 211,
   "id": "053bf5cc",
   "metadata": {},
   "outputs": [
    {
     "data": {
      "image/png": "[encoded data removed]",
      "text/plain": [
       "<Figure size 1440x720 with 1 Axes>"
      ]
     },
     "metadata": {},
     "output_type": "display_data"
    }
   ],
   "source": [
    "sns.set_theme(style = \"white\", font_scale = 1.5)\n",
    "fig, ax = plt.subplots(figsize = (20,10))\n",
    "\n",
    "\n",
    "plt.xticks(rotation = 45)\n",
    "sns.countplot(x = \"sex\", data = df2, palette = colours[:3], ax = ax)\n",
    "ax.set_xlabel('Sex')\n",
    "ax.set_ylabel('Count')\n",
    "plt.show()"
   ]
  },
  {
   "cell_type": "code",
   "execution_count": 212,
   "id": "6eb24819",
   "metadata": {},
   "outputs": [
    {
     "data": {
      "text/plain": [
       "array(['Common Dolphin', \"Risso's Dolphin\", 'Harbour Porpoise',\n",
       "       'Baleen whale', 'Small, toothed cetacean', 'Large cetacean',\n",
       "       'Pilot Whale', 'Dolphin species', 'Small cetacean', 'Cetacean',\n",
       "       'Striped Dolphin', 'Atlantic White-sided Dolphin',\n",
       "       'Common Porpoise', 'Minke Whale', 'Bottlenose Dolphin',\n",
       "       'White-beaked Dolphin', 'Whale species', 'Sperm Whale',\n",
       "       'Sowerbys Beaked Whale', \"Cuvier's Beaked Whale\", 'Fin Whale',\n",
       "       'Humpback Whale', 'Dwarf Sperm Whale', \"Blainville's Beaked Whale\",\n",
       "       'Common dolphin', 'Dolphin Species'], dtype=object)"
      ]
     },
     "execution_count": 212,
     "metadata": {},
     "output_type": "execute_result"
    }
   ],
   "source": [
    "df2['species'].unique()"
   ]
  },
  {
   "cell_type": "code",
   "execution_count": 213,
   "id": "ff1aec40",
   "metadata": {},
   "outputs": [
    {
     "data": {
      "text/plain": [
       "array(['Common Dolphin', \"Risso's Dolphin\", 'Harbour Porpoise',\n",
       "       'Baleen whale', 'Cetacean', 'Pilot Whale', 'Dolphin Species',\n",
       "       'Striped Dolphin', 'Atlantic White-sided Dolphin',\n",
       "       'Common Porpoise', 'Minke Whale', 'Bottlenose Dolphin',\n",
       "       'White-beaked Dolphin', 'Whale species', 'Sperm Whale',\n",
       "       'Sowerbys Beaked Whale', \"Cuvier's Beaked Whale\", 'Fin Whale',\n",
       "       'Humpback Whale', 'Dwarf Sperm Whale', \"Blainville's Beaked Whale\"],\n",
       "      dtype=object)"
      ]
     },
     "execution_count": 213,
     "metadata": {},
     "output_type": "execute_result"
    }
   ],
   "source": [
    "df2['species'] = df['species'].replace(\n",
    "    to_replace=[\n",
    "        'Common dolphin',\n",
    "        'Dolphin species',\n",
    "        'Small, toothed cetacean',\n",
    "        'Small cetacean',\n",
    "        'Cetacean',\n",
    "        'Large cetacean',\n",
    "    ],\n",
    "    value=[\n",
    "        'Common Dolphin',\n",
    "        'Dolphin Species',\n",
    "        'Cetacean',\n",
    "        'Cetacean',\n",
    "        'Cetacean',\n",
    "        'Cetacean',\n",
    "    ])\n",
    "df2['species'].unique()"
   ]
  },
  {
   "cell_type": "code",
   "execution_count": 214,
   "id": "ad6c8750",
   "metadata": {},
   "outputs": [],
   "source": [
    "df_species = df2.groupby('species')['species'].count()\n",
    "df_species =  df_species[df_species > 10].sort_values(ascending = False)\n"
   ]
  },
  {
   "cell_type": "code",
   "execution_count": 215,
   "id": "2b6aafd5",
   "metadata": {},
   "outputs": [
    {
     "data": {
      "text/plain": [
       "10"
      ]
     },
     "execution_count": 215,
     "metadata": {},
     "output_type": "execute_result"
    }
   ],
   "source": [
    "len(df_species.values)"
   ]
  },
  {
   "cell_type": "code",
   "execution_count": 296,
   "id": "8c47a371",
   "metadata": {},
   "outputs": [
    {
     "data": {
      "image/png": "[encoded data removed]",
      "text/plain": [
       "<Figure size 1440x720 with 1 Axes>"
      ]
     },
     "metadata": {},
     "output_type": "display_data"
    }
   ],
   "source": [
    "sns.set_theme(style = \"ticks\", font_scale = 1.5)\n",
    "fig, ax = plt.subplots(figsize = (20,10))\n",
    "\n",
    "\n",
    "fig.autofmt_xdate(rotation=45)\n",
    "sns.barplot(\n",
    "    x = df_species.index, \n",
    "    y = df_species.values,\n",
    "    palette = \"mako_r\",\n",
    "    ax = ax)\n",
    "ax.set_xlabel('Species')\n",
    "ax.set_ylabel('Count')\n",
    "plt.show()"
   ]
  },
  {
   "cell_type": "code",
   "execution_count": 217,
   "id": "7445b621",
   "metadata": {},
   "outputs": [
    {
     "data": {
      "text/plain": [
       "Index(['species', 'year', 'id_certainty', 'sex', 'location', 'cause_of_death',\n",
       "       'cod_cat', 'bycatch_ev', 'beep_conc'],\n",
       "      dtype='object')"
      ]
     },
     "execution_count": 217,
     "metadata": {},
     "output_type": "execute_result"
    }
   ],
   "source": [
    "df2.columns"
   ]
  },
  {
   "cell_type": "code",
   "execution_count": 387,
   "id": "58d8516c",
   "metadata": {},
   "outputs": [
    {
     "data": {
      "text/plain": [
       "array([1993, 1994, 1995, 1996, 1997, 1998, 1999, 2000, 2001, 2002, 2003,\n",
       "       2004, 2005, 2006, 2007, 2008, 2009, 2010, 2011, 2012, 2013, 2014,\n",
       "       2015, 2016, 2017, 2018, 2019, 2020, 2021, 2022])"
      ]
     },
     "execution_count": 387,
     "metadata": {},
     "output_type": "execute_result"
    }
   ],
   "source": [
    "df2['year'].unique()"
   ]
  },
  {
   "cell_type": "code",
   "execution_count": 218,
   "id": "4a0b53ac",
   "metadata": {},
   "outputs": [
    {
     "data": {
      "text/plain": [
       "beep_conc\n",
       "Bycatch                                                   333\n",
       "Bycatch - with evidence of BND trauma                       1\n",
       "Entanglement                                                2\n",
       "Inconclusive                                              661\n",
       "Inconclusive - features of both bycatch and BND attack      1\n",
       "Inconclusive - possible trauma                              1\n",
       "Inconclusive, possible old age                              1\n",
       "Inconclusive/Insufficient data                              2\n",
       "Insufficiant data                                          36\n",
       "Insufficient Data                                           1\n",
       "Insufficient data                                         310\n",
       "Live stranding                                              3\n",
       "No Data                                                   185\n",
       "No data                                                    53\n",
       "No features                                               306\n",
       "No features - possible starvation                           1\n",
       "Possible BND attack                                         2\n",
       "Possible Trauma - Boat Strike                               1\n",
       "Possible bycatch                                          136\n",
       "Possible bycatch/Entanglement                               1\n",
       "Possible bycatch/entanglement                               1\n",
       "Possible bycatch/trauma                                     1\n",
       "Probable Bycatch                                           17\n",
       "Probable Trauma                                             1\n",
       "Probable bycatch                                           97\n",
       "Trauma                                                     13\n",
       "Trauma - BND Attack                                        38\n",
       "Trauma - BND Attack - probable                              1\n",
       "Trauma - Boat Strike                                        8\n",
       "Trauma - possible boat strike?                              1\n",
       "Unable to assess                                            1\n",
       "Unknown                                                     1\n",
       "no data                                                     1\n",
       "Name: beep_conc, dtype: int64"
      ]
     },
     "execution_count": 218,
     "metadata": {},
     "output_type": "execute_result"
    }
   ],
   "source": [
    "df2.groupby('beep_conc')['beep_conc'].count()"
   ]
  },
  {
   "cell_type": "code",
   "execution_count": 405,
   "id": "8723835e",
   "metadata": {},
   "outputs": [
    {
     "data": {
      "text/html": [
       "<div>\n",
       "<style scoped>\n",
       "    .dataframe tbody tr th:only-of-type {\n",
       "        vertical-align: middle;\n",
       "    }\n",
       "\n",
       "    .dataframe tbody tr th {\n",
       "        vertical-align: top;\n",
       "    }\n",
       "\n",
       "    .dataframe thead th {\n",
       "        text-align: right;\n",
       "    }\n",
       "</style>\n",
       "<table border=\"1\" class=\"dataframe\">\n",
       "  <thead>\n",
       "    <tr style=\"text-align: right;\">\n",
       "      <th></th>\n",
       "      <th>species</th>\n",
       "      <th>year</th>\n",
       "      <th>id_certainty</th>\n",
       "      <th>sex</th>\n",
       "      <th>location</th>\n",
       "      <th>cause_of_death</th>\n",
       "      <th>cod_cat</th>\n",
       "      <th>bycatch_ev</th>\n",
       "      <th>beep_conc</th>\n",
       "    </tr>\n",
       "  </thead>\n",
       "  <tbody>\n",
       "    <tr>\n",
       "      <th>35</th>\n",
       "      <td>Harbour Porpoise</td>\n",
       "      <td>1993</td>\n",
       "      <td>Definite</td>\n",
       "      <td>Male</td>\n",
       "      <td>Newlyn</td>\n",
       "      <td>bycatch (known)</td>\n",
       "      <td>Bycatch (known)</td>\n",
       "      <td>Yes; Landed at Newlyn, where it was taken from...</td>\n",
       "      <td>Bycatch</td>\n",
       "    </tr>\n",
       "    <tr>\n",
       "      <th>75</th>\n",
       "      <td>Cetacean</td>\n",
       "      <td>1994</td>\n",
       "      <td>NaN</td>\n",
       "      <td>Unknown</td>\n",
       "      <td>Downderry</td>\n",
       "      <td>bycatch (known)</td>\n",
       "      <td>Bycatch (known)</td>\n",
       "      <td>Entangled in net\\nEntanglement case (2014)</td>\n",
       "      <td>Bycatch</td>\n",
       "    </tr>\n",
       "    <tr>\n",
       "      <th>126</th>\n",
       "      <td>Dolphin Species</td>\n",
       "      <td>1996</td>\n",
       "      <td>NaN</td>\n",
       "      <td>Unknown</td>\n",
       "      <td>Below Pendower beach House Hotel, Gerrans Bay</td>\n",
       "      <td>NaN</td>\n",
       "      <td>NaN</td>\n",
       "      <td>Flippers and tail cut off\\nEntanglement case (...</td>\n",
       "      <td>Bycatch</td>\n",
       "    </tr>\n",
       "    <tr>\n",
       "      <th>129</th>\n",
       "      <td>Common Dolphin</td>\n",
       "      <td>1996</td>\n",
       "      <td>Definite</td>\n",
       "      <td>Male</td>\n",
       "      <td>Parn Voose Cove, Lizard</td>\n",
       "      <td>NaN</td>\n",
       "      <td>NaN</td>\n",
       "      <td>Signs of monofilament net entanglement\\nEntang...</td>\n",
       "      <td>Bycatch</td>\n",
       "    </tr>\n",
       "    <tr>\n",
       "      <th>137</th>\n",
       "      <td>Common Dolphin</td>\n",
       "      <td>1996</td>\n",
       "      <td>Definite</td>\n",
       "      <td>Unknown</td>\n",
       "      <td>Trefusis Point, by granite 'obelisk'</td>\n",
       "      <td>NaN</td>\n",
       "      <td>NaN</td>\n",
       "      <td>Lower beak damaged and skin with criss-cross m...</td>\n",
       "      <td>Bycatch</td>\n",
       "    </tr>\n",
       "    <tr>\n",
       "      <th>...</th>\n",
       "      <td>...</td>\n",
       "      <td>...</td>\n",
       "      <td>...</td>\n",
       "      <td>...</td>\n",
       "      <td>...</td>\n",
       "      <td>...</td>\n",
       "      <td>...</td>\n",
       "      <td>...</td>\n",
       "      <td>...</td>\n",
       "    </tr>\n",
       "    <tr>\n",
       "      <th>3679</th>\n",
       "      <td>Striped Dolphin</td>\n",
       "      <td>2022</td>\n",
       "      <td>Definite</td>\n",
       "      <td>Male</td>\n",
       "      <td>Bar Point, St Mary's, Isles of Scilly</td>\n",
       "      <td>NaN</td>\n",
       "      <td>NaN</td>\n",
       "      <td>NaN</td>\n",
       "      <td>No Data</td>\n",
       "    </tr>\n",
       "    <tr>\n",
       "      <th>3680</th>\n",
       "      <td>Common Dolphin</td>\n",
       "      <td>2022</td>\n",
       "      <td>Definite</td>\n",
       "      <td>Male</td>\n",
       "      <td>Carne Beach, The Roseland</td>\n",
       "      <td>NaN</td>\n",
       "      <td>NaN</td>\n",
       "      <td>Flukes amputated</td>\n",
       "      <td>Bycatch</td>\n",
       "    </tr>\n",
       "    <tr>\n",
       "      <th>3692</th>\n",
       "      <td>Dolphin Species</td>\n",
       "      <td>2022</td>\n",
       "      <td>Definite</td>\n",
       "      <td>Unknown</td>\n",
       "      <td>Porthleven Harbour, At Sea</td>\n",
       "      <td>NaN</td>\n",
       "      <td>NaN</td>\n",
       "      <td>NaN</td>\n",
       "      <td>Insufficient data</td>\n",
       "    </tr>\n",
       "    <tr>\n",
       "      <th>3698</th>\n",
       "      <td>Common Dolphin</td>\n",
       "      <td>2022</td>\n",
       "      <td>Definite</td>\n",
       "      <td>Female</td>\n",
       "      <td>Portreath Beach</td>\n",
       "      <td>NaN</td>\n",
       "      <td>NaN</td>\n",
       "      <td>Green rope attached to tailstock in photos fro...</td>\n",
       "      <td>Bycatch</td>\n",
       "    </tr>\n",
       "    <tr>\n",
       "      <th>3699</th>\n",
       "      <td>Common Dolphin</td>\n",
       "      <td>2022</td>\n",
       "      <td>Probable</td>\n",
       "      <td>Male</td>\n",
       "      <td>Mousehole Beach, Mousehole</td>\n",
       "      <td>NaN</td>\n",
       "      <td>NaN</td>\n",
       "      <td>NaN</td>\n",
       "      <td>Bycatch</td>\n",
       "    </tr>\n",
       "  </tbody>\n",
       "</table>\n",
       "<p>2218 rows × 9 columns</p>\n",
       "</div>"
      ],
      "text/plain": [
       "               species  year id_certainty      sex  \\\n",
       "35    Harbour Porpoise  1993     Definite     Male   \n",
       "75            Cetacean  1994          NaN  Unknown   \n",
       "126    Dolphin Species  1996          NaN  Unknown   \n",
       "129     Common Dolphin  1996     Definite     Male   \n",
       "137     Common Dolphin  1996     Definite  Unknown   \n",
       "...                ...   ...          ...      ...   \n",
       "3679   Striped Dolphin  2022     Definite     Male   \n",
       "3680    Common Dolphin  2022     Definite     Male   \n",
       "3692   Dolphin Species  2022     Definite  Unknown   \n",
       "3698    Common Dolphin  2022     Definite   Female   \n",
       "3699    Common Dolphin  2022     Probable     Male   \n",
       "\n",
       "                                           location   cause_of_death  \\\n",
       "35                                           Newlyn  bycatch (known)   \n",
       "75                                        Downderry  bycatch (known)   \n",
       "126   Below Pendower beach House Hotel, Gerrans Bay              NaN   \n",
       "129                         Parn Voose Cove, Lizard              NaN   \n",
       "137            Trefusis Point, by granite 'obelisk'              NaN   \n",
       "...                                             ...              ...   \n",
       "3679          Bar Point, St Mary's, Isles of Scilly              NaN   \n",
       "3680                      Carne Beach, The Roseland              NaN   \n",
       "3692                     Porthleven Harbour, At Sea              NaN   \n",
       "3698                                Portreath Beach              NaN   \n",
       "3699                     Mousehole Beach, Mousehole              NaN   \n",
       "\n",
       "              cod_cat                                         bycatch_ev  \\\n",
       "35    Bycatch (known)  Yes; Landed at Newlyn, where it was taken from...   \n",
       "75    Bycatch (known)         Entangled in net\\nEntanglement case (2014)   \n",
       "126               NaN  Flippers and tail cut off\\nEntanglement case (...   \n",
       "129               NaN  Signs of monofilament net entanglement\\nEntang...   \n",
       "137               NaN  Lower beak damaged and skin with criss-cross m...   \n",
       "...               ...                                                ...   \n",
       "3679              NaN                                                NaN   \n",
       "3680              NaN                                   Flukes amputated   \n",
       "3692              NaN                                                NaN   \n",
       "3698              NaN  Green rope attached to tailstock in photos fro...   \n",
       "3699              NaN                                                NaN   \n",
       "\n",
       "              beep_conc  \n",
       "35              Bycatch  \n",
       "75              Bycatch  \n",
       "126             Bycatch  \n",
       "129             Bycatch  \n",
       "137             Bycatch  \n",
       "...                 ...  \n",
       "3679            No Data  \n",
       "3680            Bycatch  \n",
       "3692  Insufficient data  \n",
       "3698            Bycatch  \n",
       "3699            Bycatch  \n",
       "\n",
       "[2218 rows x 9 columns]"
      ]
     },
     "execution_count": 405,
     "metadata": {},
     "output_type": "execute_result"
    }
   ],
   "source": [
    "df_beep = df2[~df2['beep_conc'].isnull()].copy()\n",
    "# df_beep = df_beep[df_beep['year'] > 2012]\n",
    "df_beep"
   ]
  },
  {
   "cell_type": "code",
   "execution_count": 406,
   "id": "3367cced",
   "metadata": {},
   "outputs": [],
   "source": [
    "df_beep['beep_conc'] = df_beep['beep_conc'].replace(\n",
    "    to_replace=[\n",
    "        'No data',\n",
    "        'No Data',\n",
    "        'no data',\n",
    "        \"Insufficiant data\",\n",
    "        \"Insufficient Data\",           \n",
    "        \"Insufficient data\",\n",
    "        'Insufficiant data',\n",
    "        \n",
    "    ],\n",
    "    value= 'Inconclusive or Insufficent Data'\n",
    "    )"
   ]
  },
  {
   "cell_type": "code",
   "execution_count": 407,
   "id": "8d4c2f0b",
   "metadata": {},
   "outputs": [],
   "source": [
    "df_beep['beep_conc'] = df_beep['beep_conc'].replace(\n",
    "    to_replace=[\n",
    "        \"Inconclusive\",\n",
    "        'Inconclusive - features of both bycatch and BND attack',\n",
    "        'Inconclusive - possible trauma',\n",
    "        'Inconclusive, possible old age',\n",
    "        'Inconclusive/Insufficient data', \n",
    "    ],\n",
    "    value= 'Inconclusive or Insufficent Data'\n",
    "    )"
   ]
  },
  {
   "cell_type": "code",
   "execution_count": 408,
   "id": "e593dca3",
   "metadata": {},
   "outputs": [],
   "source": [
    "df_beep['beep_conc'] = df_beep['beep_conc'].replace(\n",
    "    to_replace=[\n",
    "        'No features', \n",
    "        'No features - possible starvation'\n",
    "    ],\n",
    "    value= 'No features'\n",
    "    )"
   ]
  },
  {
   "cell_type": "code",
   "execution_count": 409,
   "id": "71f755d9",
   "metadata": {},
   "outputs": [],
   "source": [
    "df_beep['beep_conc'] = df_beep['beep_conc'].replace(\n",
    "    to_replace=[\n",
    "        'Possible BND attack',\n",
    "        'Possible Trauma - Boat Strike', \n",
    "        'Possible bycatch',\n",
    "        'Possible bycatch/Entanglement',\n",
    "        'Possible bycatch/entanglement',\n",
    "        'Possible bycatch/trauma', \n",
    "    ],\n",
    "    value= 'Possible bycatch'\n",
    "    )"
   ]
  },
  {
   "cell_type": "code",
   "execution_count": 410,
   "id": "10646d1b",
   "metadata": {},
   "outputs": [],
   "source": [
    "df_beep['beep_conc'] = df_beep['beep_conc'].replace(\n",
    "    to_replace=[\n",
    "        'Trauma',\n",
    "        'Trauma - BND Attack',\n",
    "        'Trauma - BND Attack - probable',\n",
    "        'Trauma - Boat Strike',\n",
    "        'Trauma - possible boat strike?'\n",
    "    ],\n",
    "    value= 'Trauma'\n",
    "    )"
   ]
  },
  {
   "cell_type": "code",
   "execution_count": 411,
   "id": "e6a0b11e",
   "metadata": {},
   "outputs": [],
   "source": [
    "df_beep['beep_conc'] = df_beep['beep_conc'].replace(\n",
    "    to_replace=[\n",
    "        'Unable to assess', \n",
    "        'Unknown'\n",
    "    ],\n",
    "    value= 'Unable to assess'\n",
    "    )"
   ]
  },
  {
   "cell_type": "code",
   "execution_count": 412,
   "id": "b8727092",
   "metadata": {},
   "outputs": [],
   "source": [
    "df_beep['beep_conc'] = df_beep['beep_conc'].replace(\n",
    "    to_replace=[\n",
    "        'Probable Bycatch', \n",
    "        'Probable bycatch'\n",
    "    ],\n",
    "    value= 'Probable Bycatch'\n",
    "    )"
   ]
  },
  {
   "cell_type": "code",
   "execution_count": 413,
   "id": "89437639",
   "metadata": {},
   "outputs": [],
   "source": [
    "df_beep['beep_conc'] = df_beep['beep_conc'].replace(\n",
    "    to_replace=[\n",
    "        'Probable Bycatch', \n",
    "        'Probable bycatch'\n",
    "    ],\n",
    "    value= 'Probable Bycatch'\n",
    "    )"
   ]
  },
  {
   "cell_type": "code",
   "execution_count": 414,
   "id": "8a747f62",
   "metadata": {},
   "outputs": [],
   "source": [
    "df_beep['beep_conc'] = df_beep['beep_conc'].replace(\n",
    "    to_replace=[\n",
    "        'Bycatch', \n",
    "        'Bycatch - with evidence of BND trauma',\n",
    "        'Entanglement'\n",
    "    ],\n",
    "    value= 'Bycatch'\n",
    "    )"
   ]
  },
  {
   "cell_type": "code",
   "execution_count": 415,
   "id": "2484164b",
   "metadata": {},
   "outputs": [],
   "source": [
    "df_beep = df_beep.groupby('beep_conc')['beep_conc'].count()"
   ]
  },
  {
   "cell_type": "code",
   "execution_count": 416,
   "id": "bb61743a",
   "metadata": {},
   "outputs": [],
   "source": [
    "df_beep = df_beep[df_beep > 5].sort_values(ascending=False)"
   ]
  },
  {
   "cell_type": "code",
   "execution_count": 417,
   "id": "93f0e8a8",
   "metadata": {},
   "outputs": [
    {
     "data": {
      "text/plain": [
       "beep_conc\n",
       "Inconclusive or Insufficent Data    1252\n",
       "Bycatch                              336\n",
       "No features                          307\n",
       "Possible bycatch                     142\n",
       "Probable Bycatch                     114\n",
       "Trauma                                61\n",
       "Name: beep_conc, dtype: int64"
      ]
     },
     "execution_count": 417,
     "metadata": {},
     "output_type": "execute_result"
    }
   ],
   "source": [
    "df_beep"
   ]
  },
  {
   "cell_type": "code",
   "execution_count": 429,
   "id": "4e85b3de",
   "metadata": {},
   "outputs": [
    {
     "data": {
      "image/png": "[encoded data removed]",
      "text/plain": [
       "<Figure size 1440x720 with 1 Axes>"
      ]
     },
     "metadata": {},
     "output_type": "display_data"
    }
   ],
   "source": [
    "sns.set_theme(style = \"ticks\", font_scale = 1.5)\n",
    "fig, ax = plt.subplots(figsize = (20,10))\n",
    "\n",
    "fig.autofmt_xdate(rotation=45)\n",
    "sns.barplot(\n",
    "    x = df_beep.index, \n",
    "    y = df_beep.values,\n",
    "    palette = \"mako_r\",\n",
    "    ax = ax)\n",
    "ax.set_xlabel('Beep evaluation conclusion')\n",
    "ax.set_ylabel('Count')\n",
    "plt.show()"
   ]
  },
  {
   "cell_type": "code",
   "execution_count": 419,
   "id": "9b6a8d06",
   "metadata": {},
   "outputs": [
    {
     "data": {
      "text/plain": [
       "beep_conc\n",
       "Inconclusive or Insufficent Data    1252\n",
       "Bycatch                              336\n",
       "No features                          307\n",
       "Possible bycatch                     142\n",
       "Probable Bycatch                     114\n",
       "Trauma                                61\n",
       "Name: beep_conc, dtype: int64"
      ]
     },
     "execution_count": 419,
     "metadata": {},
     "output_type": "execute_result"
    }
   ],
   "source": [
    "df_beep"
   ]
  },
  {
   "cell_type": "code",
   "execution_count": 420,
   "id": "c07dee4c",
   "metadata": {},
   "outputs": [
    {
     "data": {
      "text/plain": [
       "1486"
      ]
     },
     "execution_count": 420,
     "metadata": {},
     "output_type": "execute_result"
    }
   ],
   "source": [
    "df2['beep_conc'].isnull().sum()"
   ]
  },
  {
   "cell_type": "code",
   "execution_count": 436,
   "id": "913bf0fd",
   "metadata": {},
   "outputs": [
    {
     "name": "stderr",
     "output_type": "stream",
     "text": [
      "/home/charlie/.local/lib/python3.9/site-packages/seaborn/_decorators.py:36: FutureWarning: Pass the following variable as a keyword arg: x. From version 0.12, the only valid positional argument will be `data`, and passing other arguments without an explicit keyword will result in an error or misinterpretation.\n",
      "  warnings.warn(\n"
     ]
    },
    {
     "data": {
      "image/png": "[encoded data removed]",
      "text/plain": [
       "<Figure size 1440x720 with 1 Axes>"
      ]
     },
     "metadata": {},
     "output_type": "display_data"
    }
   ],
   "source": [
    "sns.set_theme(style = \"ticks\", font_scale = 1.5)\n",
    "fig, ax = plt.subplots(figsize = (20,10))\n",
    "\n",
    "fig.autofmt_xdate(rotation=45)\n",
    "sns.countplot(df.photos_rec,\n",
    "    palette = colours[:2],\n",
    "    ax = ax)\n",
    "ax.set_xlabel('Photos Recieved')\n",
    "ax.set_ylabel('Count')\n",
    "plt.show()"
   ]
  },
  {
   "cell_type": "code",
   "execution_count": null,
   "id": "64058fa6",
   "metadata": {},
   "outputs": [],
   "source": []
  }
 ],
 "metadata": {
  "kernelspec": {
   "display_name": "dissyPytorch",
   "language": "python",
   "name": "dissypytorch"
  },
  "language_info": {
   "codemirror_mode": {
    "name": "ipython",
    "version": 3
   },
   "file_extension": ".py",
   "mimetype": "text/x-python",
   "name": "python",
   "nbconvert_exporter": "python",
   "pygments_lexer": "ipython3",
   "version": "3.9.12"
  }
 },
 "nbformat": 4,
 "nbformat_minor": 5
}
