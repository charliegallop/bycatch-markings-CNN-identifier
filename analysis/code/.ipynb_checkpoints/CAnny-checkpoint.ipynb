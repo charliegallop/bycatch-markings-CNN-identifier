{
 "cells": [
  {
   "cell_type": "code",
   "execution_count": 5,
   "id": "4cc91098",
   "metadata": {},
   "outputs": [],
   "source": [
    "import cv2\n",
    "  \n",
    "img = cv2.imread('../data/sortedData/2018/C-2018-005/GY5C2518.JPG')  # Read image\n",
    "\n",
    "# let's downscale the image using new  width and height\n",
    "down_width = 300\n",
    "down_height = 200\n",
    "down_points = (down_width, down_height)\n",
    "resized_down = cv2.resize(img, down_points, interpolation= cv2.INTER_LINEAR)\n",
    "cv2.imshow('original', resized_down)\n",
    "  \n",
    "# # Setting parameter values\n",
    "# t_lower = 50  # Lower Threshold\n",
    "# t_upper = 150  # Upper threshold\n",
    "  \n",
    "# # Applying the Canny Edge filter\n",
    "# edge = cv2.Canny(img, t_lower, t_upper)\n",
    "  \n",
    "# cv2.imshow('original', img)\n",
    "# cv2.imshow('edge', edge)\n",
    "# cv2.waitKey(0)\n",
    "# cv2.destroyAllWindows()"
   ]
  },
  {
   "cell_type": "code",
   "execution_count": null,
   "id": "5623b32c",
   "metadata": {},
   "outputs": [],
   "source": []
  }
 ],
 "metadata": {
  "kernelspec": {
   "display_name": "Python 3 (ipykernel)",
   "language": "python",
   "name": "python3"
  },
  "language_info": {
   "codemirror_mode": {
    "name": "ipython",
    "version": 3
   },
   "file_extension": ".py",
   "mimetype": "text/x-python",
   "name": "python",
   "nbconvert_exporter": "python",
   "pygments_lexer": "ipython3",
   "version": "3.9.12"
  }
 },
 "nbformat": 4,
 "nbformat_minor": 5
}
