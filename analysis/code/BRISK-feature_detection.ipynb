{
 "cells": [
  {
   "cell_type": "code",
   "execution_count": 3,
   "id": "93053bec",
   "metadata": {},
   "outputs": [
    {
     "name": "stdout",
     "output_type": "stream",
     "text": [
      "/home/charlie/Documents/Uni/Exeter - Data Science/Dissertation/analysis/code\n"
     ]
    }
   ],
   "source": [
    "import cv2 as cv\n",
    "import matplotlib.pyplot as plt\n",
    "import numpy as np\n",
    "import os\n",
    "print(os.getcwd())"
   ]
  },
  {
   "cell_type": "code",
   "execution_count": 4,
   "id": "732637a8",
   "metadata": {},
   "outputs": [],
   "source": [
    "# path of image 1\n",
    "    path1 = '../data/sortedData/2018/C-2018-005/GY5C2518.JPG'\n",
    "# path of image 2\n",
    "path2 = '../data/sortedData/2018/C-2018-005/GY5C2523.JPG'"
   ]
  },
  {
   "cell_type": "code",
   "execution_count": 5,
   "id": "09cbf11e",
   "metadata": {},
   "outputs": [],
   "source": [
    "img1 = cv.imread(path1) \n",
    "img2 = cv.imread(path2) "
   ]
  },
  {
   "cell_type": "code",
   "execution_count": 8,
   "id": "a4b0b0c2",
   "metadata": {},
   "outputs": [],
   "source": [
    "detector = cv.BRISK_create()\n",
    "norm = cv.NORM_HAMMING"
   ]
  },
  {
   "cell_type": "code",
   "execution_count": 9,
   "id": "4b40cd1e",
   "metadata": {},
   "outputs": [],
   "source": [
    "# Finding features\n",
    "kp1, desc1 = detector.detectAndCompute(img1, None)\n",
    "kp2, desc2 = detector.detectAndCompute(img2, None)\n"
   ]
  },
  {
   "cell_type": "code",
   "execution_count": 10,
   "id": "fb902353",
   "metadata": {},
   "outputs": [
    {
     "data": {
      "text/plain": [
       "True"
      ]
     },
     "execution_count": 10,
     "metadata": {},
     "output_type": "execute_result"
    }
   ],
   "source": [
    "result1 = cv.drawKeypoints(img1, kp1, None)\n",
    "cv.imwrite(\"features1.jpg\", result1)"
   ]
  },
  {
   "cell_type": "code",
   "execution_count": 11,
   "id": "01bb3b08",
   "metadata": {},
   "outputs": [
    {
     "data": {
      "text/plain": [
       "True"
      ]
     },
     "execution_count": 11,
     "metadata": {},
     "output_type": "execute_result"
    }
   ],
   "source": [
    "result2 = cv.drawKeypoints(img2, kp2, None)\n",
    "cv.imwrite(\"features2.jpg\", result2)"
   ]
  },
  {
   "cell_type": "code",
   "execution_count": 12,
   "id": "87196000",
   "metadata": {},
   "outputs": [],
   "source": [
    "# Finding matches\n",
    "FLANN_INDEX_LSH = 6\n",
    "flann_params = dict(algorithm = FLANN_INDEX_LSH,\n",
    "                   table_number = 6,\n",
    "                   key_size = 12,\n",
    "                   multi_probe_level = 1)\n",
    "matcher = cv.FlannBasedMatcher(flann_params, {})\n",
    "raw_matches = matcher.knnMatch(desc1, trainDescriptors = desc2, k = 2)"
   ]
  },
  {
   "cell_type": "code",
   "execution_count": 14,
   "id": "c5894e04",
   "metadata": {},
   "outputs": [
    {
     "ename": "NameError",
     "evalue": "name 'filter_matches' is not defined",
     "output_type": "error",
     "traceback": [
      "\u001b[0;31m---------------------------------------------------------------------------\u001b[0m",
      "\u001b[0;31mNameError\u001b[0m                                 Traceback (most recent call last)",
      "Input \u001b[0;32mIn [14]\u001b[0m, in \u001b[0;36m<cell line: 2>\u001b[0;34m()\u001b[0m\n\u001b[1;32m      1\u001b[0m \u001b[38;5;66;03m# finding good matches\u001b[39;00m\n\u001b[0;32m----> 2\u001b[0m p1, p2, kp_pairs, good \u001b[38;5;241m=\u001b[39m \u001b[43mfilter_matches\u001b[49m(kp1, kp2, raw_matches)\n\u001b[1;32m      3\u001b[0m \u001b[38;5;28;01mif\u001b[39;00m \u001b[38;5;28mlen\u001b[39m(p1) \u001b[38;5;241m>\u001b[39m\u001b[38;5;241m=\u001b[39m \u001b[38;5;241m4\u001b[39m:\n\u001b[1;32m      4\u001b[0m     H, status \u001b[38;5;241m=\u001b[39m cv\u001b[38;5;241m.\u001b[39mfindHomography(p1, p2, cv\u001b[38;5;241m.\u001b[39mRANSAC, \u001b[38;5;241m5.0\u001b[39m)\n",
      "\u001b[0;31mNameError\u001b[0m: name 'filter_matches' is not defined"
     ]
    }
   ],
   "source": [
    "# finding good matches\n",
    "p1, p2, kp_pairs, good = filter_matches(kp1, kp2, raw_matches)\n",
    "if len(p1) >= 4:\n",
    "    H, status = cv.findHomography(p1, p2, cv.RANSAC, 5.0)\n",
    "    print('%d / %d  inliers/matched' % (np.sum(status), len(status)))\n",
    "else:\n",
    "    H, status = None, None\n",
    "    print('%d matches found, not enough for homography estimation' % len(p1))\n",
    "vis = explore_match(\"win\", img1, img2, kp1, kp2, good, status, H)\n",
    "cv.imwrite(\"match.jpg\", vis)"
   ]
  },
  {
   "cell_type": "code",
   "execution_count": 8,
   "id": "f2874a77",
   "metadata": {},
   "outputs": [
    {
     "ename": "error",
     "evalue": "OpenCV(4.6.0) /io/opencv/modules/highgui/src/window.cpp:1267: error: (-2:Unspecified error) The function is not implemented. Rebuild the library with Windows, GTK+ 2.x or Cocoa support. If you are on Ubuntu or Debian, install libgtk2.0-dev and pkg-config, then re-run cmake or configure script in function 'cvShowImage'\n",
     "output_type": "error",
     "traceback": [
      "\u001b[0;31m---------------------------------------------------------------------------\u001b[0m",
      "\u001b[0;31merror\u001b[0m                                     Traceback (most recent call last)",
      "Input \u001b[0;32mIn [8]\u001b[0m, in \u001b[0;36m<cell line: 12>\u001b[0;34m()\u001b[0m\n\u001b[1;32m      9\u001b[0m \u001b[38;5;66;03m# Applying the Canny Edge filter\u001b[39;00m\n\u001b[1;32m     10\u001b[0m edge \u001b[38;5;241m=\u001b[39m cv2\u001b[38;5;241m.\u001b[39mCanny(img1, t_lower, t_upper)\n\u001b[0;32m---> 12\u001b[0m \u001b[43mcv2\u001b[49m\u001b[38;5;241;43m.\u001b[39;49m\u001b[43mimshow\u001b[49m\u001b[43m(\u001b[49m\u001b[38;5;124;43m'\u001b[39;49m\u001b[38;5;124;43moriginal\u001b[39;49m\u001b[38;5;124;43m'\u001b[39;49m\u001b[43m,\u001b[49m\u001b[43m \u001b[49m\u001b[43mimg1\u001b[49m\u001b[43m)\u001b[49m\n\u001b[1;32m     13\u001b[0m cv2\u001b[38;5;241m.\u001b[39mimshow(\u001b[38;5;124m'\u001b[39m\u001b[38;5;124medge\u001b[39m\u001b[38;5;124m'\u001b[39m, edge)\n\u001b[1;32m     14\u001b[0m cv2\u001b[38;5;241m.\u001b[39mwaitKey(\u001b[38;5;241m0\u001b[39m)\n",
      "\u001b[0;31merror\u001b[0m: OpenCV(4.6.0) /io/opencv/modules/highgui/src/window.cpp:1267: error: (-2:Unspecified error) The function is not implemented. Rebuild the library with Windows, GTK+ 2.x or Cocoa support. If you are on Ubuntu or Debian, install libgtk2.0-dev and pkg-config, then re-run cmake or configure script in function 'cvShowImage'\n"
     ]
    }
   ],
   "source": [
    "import cv2\n",
    "  \n",
    "img1 = cv2.imread(path1)  # Read image\n",
    "  \n",
    "# Setting parameter values\n",
    "t_lower = 50  # Lower Threshold\n",
    "t_upper = 150  # Upper threshold\n",
    "  \n",
    "# Applying the Canny Edge filter\n",
    "edge = cv2.Canny(img1, t_lower, t_upper)\n",
    "  \n",
    "cv2.imshow('original', img1)\n",
    "cv2.imshow('edge', edge)\n",
    "cv2.waitKey(0)\n",
    "cv2.destroyAllWindows()"
   ]
  },
  {
   "cell_type": "code",
   "execution_count": null,
   "id": "5654f87c",
   "metadata": {},
   "outputs": [],
   "source": []
  }
 ],
 "metadata": {
  "kernelspec": {
   "display_name": "Python 3 (ipykernel)",
   "language": "python",
   "name": "python3"
  },
  "language_info": {
   "codemirror_mode": {
    "name": "ipython",
    "version": 3
   },
   "file_extension": ".py",
   "mimetype": "text/x-python",
   "name": "python",
   "nbconvert_exporter": "python",
   "pygments_lexer": "ipython3",
   "version": "3.9.12"
  }
 },
 "nbformat": 4,
 "nbformat_minor": 5
}
